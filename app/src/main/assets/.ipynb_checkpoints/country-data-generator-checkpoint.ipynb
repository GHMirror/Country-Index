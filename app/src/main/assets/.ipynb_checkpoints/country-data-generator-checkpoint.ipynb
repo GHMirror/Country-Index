{
 "cells": [
  {
   "cell_type": "code",
   "execution_count": 1,
   "metadata": {},
   "outputs": [],
   "source": [
    "import pandas as pd\n",
    "\n",
    "from pprint import pprint\n",
    "\n",
    "capitals = pd.read_json(\"country-by-capital-city.json\")\n",
    "continents = pd.read_json(\"country-by-continent.json\")\n",
    "currency = pd.read_json(\"country-by-currency-name.json\")\n",
    "languages = pd.read_json(\"country-by-languages.json\")\n",
    "foods = pd.read_json(\"country-by-national-dish.json\")\n",
    "population = pd.read_json(\"country-by-population.json\")\n",
    "population_density = pd.read_json(\"country-by-population-density.json\")\n",
    "government = pd.read_json(\"country-by-government-type.json\")\n",
    "life_expectancy = pd.read_json(\"country-by-life-expectancy.json\")\n",
    "life_expectancy = life_expectancy.fillna(0)\n",
    "\n",
    "areas = pd.read_json(\"country-by-surface-area.json\", typ=\"series\")\n",
    "\n",
    "population = population.fillna(0)\n",
    "population_density = population_density.fillna('None reported')\n",
    "\n",
    "region = pd.read_json(\"country-by-region-in-world.json\")\n",
    "religions = pd.read_json(\"country-by-religion.json\", typ=\"series\")\n",
    "\n",
    "flagnames = pd.read_json(\"countries.json\", typ='series')"
   ]
  },
  {
   "cell_type": "code",
   "execution_count": 2,
   "metadata": {},
   "outputs": [],
   "source": [
    "merged = []\n",
    "\n",
    "def getItem(string):\n",
    "    if(string is None):\n",
    "        return \"None\"\n",
    "    return string\n",
    "\n",
    "counter = 0;\n",
    "for capital in capitals.country:\n",
    "    counter2 = 0;\n",
    "    for flag in flagnames:\n",
    "        if(capital == flag):            \n",
    "            data = {\n",
    "                \"country\": capital, \n",
    "                \"flagKey\": flagnames.keys()[counter2],\n",
    "                \"capital\": getItem(capitals.city[counter]),\n",
    "                \"continent\": continents.continent[counter],\n",
    "                \"currency\": '',\n",
    "                \"languages\": '',\n",
    "                \"foods\": getItem(foods.dish[counter]),\n",
    "                \"government\": government.government[counter],\n",
    "                \"life_expectancy\": getItem(life_expectancy.expectancy[counter]),\n",
    "                #\"religion\": religions.religion[counter],\n",
    "                \"region\": region.location[counter],\n",
    "                \"population\": int(float(getItem(population.population[counter]))),\n",
    "                \"population_density\": population_density.density[counter],\n",
    "                   }\n",
    "            merged.append(data)\n",
    "        counter2 = counter2 + 1\n",
    "    counter = counter + 1"
   ]
  },
  {
   "cell_type": "code",
   "execution_count": 3,
   "metadata": {},
   "outputs": [],
   "source": [
    "for item in merged:\n",
    "    found = False\n",
    "    for religion in religions:\n",
    "        if (religion['country'] == item['country']):\n",
    "            item['religion'] = religion['religion']\n",
    "            found = True\n",
    "    if(not found):\n",
    "        item['religion'] = 'None'"
   ]
  },
  {
   "cell_type": "code",
   "execution_count": 4,
   "metadata": {},
   "outputs": [],
   "source": [
    "for item in merged:\n",
    "    found = False\n",
    "    for area in areas:\n",
    "        if (area['country'] == item['country']):\n",
    "            item['area'] = round(area['area'])\n",
    "            found = True\n",
    "    if(not found):\n",
    "        item['area'] = 'None'"
   ]
  },
  {
   "cell_type": "code",
   "execution_count": 5,
   "metadata": {},
   "outputs": [],
   "source": [
    "for item in merged:\n",
    "    found = False\n",
    "    counter = 0\n",
    "    for c in currency['country']:\n",
    "        if (c == item['country']):\n",
    "            item['currency'] = currency['currency_name'][counter]\n",
    "            found = True\n",
    "        counter = counter + 1\n",
    "    if(not found):\n",
    "        item['currency'] = 'No data'"
   ]
  },
  {
   "cell_type": "code",
   "execution_count": 6,
   "metadata": {},
   "outputs": [],
   "source": [
    "for item in merged:\n",
    "    found = False\n",
    "    counter = 0\n",
    "    for c in languages['country']:\n",
    "        if (c == item['country']):\n",
    "            if(item['languages'] == ''):\n",
    "                item['languages'] = languages['language'][counter]\n",
    "            else:\n",
    "                item['languages'] = item['languages'] + ', ' + languages['language'][counter]\n",
    "            found = True\n",
    "        counter = counter + 1\n",
    "    if(not found):\n",
    "        item['currency'] = 'None'"
   ]
  },
  {
   "cell_type": "code",
   "execution_count": 7,
   "metadata": {},
   "outputs": [],
   "source": [
    "import json\n",
    "\n",
    "with open('countrydata.json', 'w') as f:\n",
    "    json.dump(merged, f)"
   ]
  }
 ],
 "metadata": {
  "kernelspec": {
   "display_name": "Python 3",
   "language": "python",
   "name": "python3"
  },
  "language_info": {
   "codemirror_mode": {
    "name": "ipython",
    "version": 3
   },
   "file_extension": ".py",
   "mimetype": "text/x-python",
   "name": "python",
   "nbconvert_exporter": "python",
   "pygments_lexer": "ipython3",
   "version": "3.7.3"
  }
 },
 "nbformat": 4,
 "nbformat_minor": 2
}
